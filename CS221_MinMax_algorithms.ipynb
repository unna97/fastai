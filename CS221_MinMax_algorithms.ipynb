{
  "nbformat": 4,
  "nbformat_minor": 0,
  "metadata": {
    "colab": {
      "name": "CS221 : MinMax algorithms",
      "provenance": [],
      "collapsed_sections": [],
      "authorship_tag": "ABX9TyO0rmYI4T3QNzmz3HFCvZsM",
      "include_colab_link": true
    },
    "kernelspec": {
      "name": "python3",
      "display_name": "Python 3"
    }
  },
  "cells": [
    {
      "cell_type": "markdown",
      "metadata": {
        "id": "view-in-github",
        "colab_type": "text"
      },
      "source": [
        "<a href=\"https://colab.research.google.com/github/unna97/fastai/blob/master/CS221_MinMax_algorithms.ipynb\" target=\"_parent\"><img src=\"https://colab.research.google.com/assets/colab-badge.svg\" alt=\"Open In Colab\"/></a>"
      ]
    },
    {
      "cell_type": "code",
      "metadata": {
        "id": "icXzJB_a52Lf",
        "colab_type": "code",
        "colab": {}
      },
      "source": [
        "class Policy:\n",
        "  def __init__(self, game):\n",
        "    self.possible_actions = game.actions\n",
        "    self.initial_state = game.state\n",
        "    self.state = self.initial_state\n",
        "    self.end_state = game.end_state\n",
        "    self.current_player = 0\n",
        "\n",
        "  def actions(self):\n",
        "    return self.possible_actions\n",
        "\n",
        "  def next_state(self, action, state, player):\n",
        "    return action(player, state)\n",
        "\n",
        "  def is_end(self, state):\n",
        "    if state == self.end_state:\n",
        "      return 1\n",
        "    return 0\n",
        "  \n",
        "  def utility(self, state, player):\n",
        "    assert self.is_end(self, state), \"state is not end yet\"\n",
        "    return player*state)\n",
        "  \n",
        "  def MinMaxPolicy(self):\n",
        "    return 10\n",
        "\n",
        "  def random_policy(self):\n",
        "    return 2"
      ],
      "execution_count": 5,
      "outputs": []
    },
    {
      "cell_type": "code",
      "metadata": {
        "id": "5Mdvu4uITL-R",
        "colab_type": "code",
        "colab": {}
      },
      "source": [
        "class divide_add_game:\n",
        "  def __init__(self, N = 10):\n",
        "    self.N = N\n",
        "\n",
        "  def add(self, state):\n",
        "    self.N = state + 1\n",
        "\n",
        "#  def divide(self, state):\n",
        "  #  self.N = state/2\n",
        "\n",
        "\n",
        "\n",
        "\n"
      ],
      "execution_count": 16,
      "outputs": []
    },
    {
      "cell_type": "code",
      "metadata": {
        "id": "whMSkuOLwOTu",
        "colab_type": "code",
        "colab": {}
      },
      "source": [
        "def multiply():\n",
        "  return (10 * 8)\n",
        "def add(w):\n",
        "  return (w + 2)"
      ],
      "execution_count": 26,
      "outputs": []
    },
    {
      "cell_type": "code",
      "metadata": {
        "id": "ef5czg07TUQh",
        "colab_type": "code",
        "colab": {
          "base_uri": "https://localhost:8080/",
          "height": 34
        },
        "outputId": "ccf3fcd6-c2b4-4748-969a-43963566f7d0"
      },
      "source": [
        "green(np.array([1, 3, 4, 10]), 10)"
      ],
      "execution_count": 17,
      "outputs": [
        {
          "output_type": "execute_result",
          "data": {
            "text/plain": [
              "array([11, 13, 14, 20])"
            ]
          },
          "metadata": {
            "tags": []
          },
          "execution_count": 17
        }
      ]
    },
    {
      "cell_type": "code",
      "metadata": {
        "id": "TI8p4Pp2TeQv",
        "colab_type": "code",
        "colab": {}
      },
      "source": [
        "a = {1: add, 2: multiply}"
      ],
      "execution_count": 29,
      "outputs": []
    },
    {
      "cell_type": "code",
      "metadata": {
        "id": "bxCVpC-NwsHx",
        "colab_type": "code",
        "colab": {}
      },
      "source": [
        ""
      ],
      "execution_count": 28,
      "outputs": []
    }
  ]
}